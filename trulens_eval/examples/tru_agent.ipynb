{
 "cells": [
  {
   "cell_type": "code",
   "execution_count": 1,
   "id": "b7a13572-0c7b-4c63-b75a-c8addc473048",
   "metadata": {},
   "outputs": [],
   "source": [
    "from pathlib import Path\n",
    "\n",
    "from langchain import LLMMathChain\n",
    "from langchain.agents import initialize_agent, Tool\n",
    "from langchain.agents import AgentType\n",
    "from langchain.chat_models import ChatOpenAI\n",
    "\n",
    "from trulens_eval import Tru, FeedbackMode\n",
    "from trulens_eval.tru_agent import TruAgent, OpenAiFunctionsMessagesExtractor"
   ]
  },
  {
   "cell_type": "code",
   "execution_count": 2,
   "id": "82de8e07-8edf-44b9-974e-d01847fe204f",
   "metadata": {},
   "outputs": [],
   "source": [
    "tru = Tru()"
   ]
  },
  {
   "cell_type": "code",
   "execution_count": 3,
   "id": "b3eaf840-3260-4ff5-b6d8-23b12f5c08a8",
   "metadata": {},
   "outputs": [
    {
     "name": "stdout",
     "output_type": "stream",
     "text": [
      "Force stopping dashboard ...\n",
      "Starting dashboard ...\n"
     ]
    },
    {
     "data": {
      "application/vnd.jupyter.widget-view+json": {
       "model_id": "8a428fd182f348349aa152e1e389ae06",
       "version_major": 2,
       "version_minor": 0
      },
      "text/plain": [
       "Accordion(children=(VBox(children=(VBox(children=(Label(value='STDOUT'), Output())), VBox(children=(Label(valu…"
      ]
     },
     "metadata": {},
     "output_type": "display_data"
    },
    {
     "name": "stdout",
     "output_type": "stream",
     "text": [
      "Dashboard started at http://192.168.178.30:8501 .\n"
     ]
    },
    {
     "data": {
      "text/plain": [
       "<subprocess.Popen at 0x7f7a293f7640>"
      ]
     },
     "execution_count": 3,
     "metadata": {},
     "output_type": "execute_result"
    }
   ],
   "source": [
    "tru.start_dashboard(force=True)"
   ]
  },
  {
   "cell_type": "code",
   "execution_count": 4,
   "id": "65d2693e-9648-4ed7-9c3d-0850d6eec824",
   "metadata": {},
   "outputs": [],
   "source": [
    "llm = ChatOpenAI(temperature=0, model=\"gpt-3.5-turbo-0613\")\n",
    "\n",
    "llm_math_chain = LLMMathChain.from_llm(llm=llm, verbose=True)\n",
    "\n",
    "tools = [\n",
    "    Tool(\n",
    "        name=\"Calculator\",\n",
    "        func=llm_math_chain.run,\n",
    "        description=\"useful for when you need to answer questions about math\"\n",
    "    ),\n",
    "    Tool(\n",
    "        name=\"Nothing\",\n",
    "        func=lambda x: x,\n",
    "        description=\"useful for for nothing\"\n",
    "    ),\n",
    "]\n",
    "\n",
    "agent = initialize_agent(tools, llm, agent=AgentType.OPENAI_FUNCTIONS, verbose=True)"
   ]
  },
  {
   "cell_type": "code",
   "execution_count": 5,
   "id": "97e680dc-3905-4f35-b7c0-42dabc063051",
   "metadata": {},
   "outputs": [],
   "source": [
    "app = TruAgent(\n",
    "    app=agent,\n",
    "    app_id=\"OpenAiFunctions\",\n",
    "    messages_extractor=OpenAiFunctionsMessagesExtractor(agent),\n",
    ")"
   ]
  },
  {
   "cell_type": "code",
   "execution_count": 6,
   "id": "2b6680c1-85a0-4868-a694-c2b0e3663570",
   "metadata": {},
   "outputs": [
    {
     "name": "stdout",
     "output_type": "stream",
     "text": [
      "\n",
      "\n",
      "\u001b[1m> Entering new AgentExecutor chain...\u001b[0m\n",
      "\u001b[32;1m\u001b[1;3m\n",
      "Invoking: `Calculator` with `sqrt(49)`\n",
      "\n",
      "\n",
      "\u001b[0m\n",
      "\n",
      "\u001b[1m> Entering new LLMMathChain chain...\u001b[0m\n",
      "sqrt(49)\u001b[32;1m\u001b[1;3m```text\n",
      "sqrt(49)\n",
      "```\n",
      "...numexpr.evaluate(\"sqrt(49)\")...\n",
      "\u001b[0m\n",
      "Answer: \u001b[33;1m\u001b[1;3m7.0\u001b[0m\n",
      "\u001b[1m> Finished chain.\u001b[0m\n",
      "\u001b[36;1m\u001b[1;3mAnswer: 7.0\u001b[0m\u001b[32;1m\u001b[1;3mThe square root of 49 is 7.\u001b[0m\n",
      "\n",
      "\u001b[1m> Finished chain.\u001b[0m\n"
     ]
    }
   ],
   "source": [
    "out, rec, session = app.call_with_session(inputs={\"input\": \"what is the square root of 49\"})"
   ]
  },
  {
   "cell_type": "code",
   "execution_count": 9,
   "id": "6768e42d-8689-45d6-903c-079ec2dd6a4d",
   "metadata": {},
   "outputs": [
    {
     "data": {
      "text/html": [
       "<div>\n",
       "<style scoped>\n",
       "    .dataframe tbody tr th:only-of-type {\n",
       "        vertical-align: middle;\n",
       "    }\n",
       "\n",
       "    .dataframe tbody tr th {\n",
       "        vertical-align: top;\n",
       "    }\n",
       "\n",
       "    .dataframe thead th {\n",
       "        text-align: right;\n",
       "    }\n",
       "</style>\n",
       "<table border=\"1\" class=\"dataframe\">\n",
       "  <thead>\n",
       "    <tr style=\"text-align: right;\">\n",
       "      <th></th>\n",
       "      <th>ts</th>\n",
       "      <th>source</th>\n",
       "      <th>label</th>\n",
       "      <th>content</th>\n",
       "      <th>metadata_</th>\n",
       "      <th>record_id</th>\n",
       "    </tr>\n",
       "  </thead>\n",
       "  <tbody>\n",
       "    <tr>\n",
       "      <th>0</th>\n",
       "      <td>2023-08-09 22:38:16.963236</td>\n",
       "      <td>user</td>\n",
       "      <td>Input</td>\n",
       "      <td>what is the square root of 49</td>\n",
       "      <td>{'agent_type': 'openai-functions'}</td>\n",
       "      <td>record_hash_2fdd7b0c309200d3fabfc12eca7fd76e</td>\n",
       "    </tr>\n",
       "    <tr>\n",
       "      <th>1</th>\n",
       "      <td>2023-08-09 22:38:18.118183</td>\n",
       "      <td>assistant</td>\n",
       "      <td>Action[Calculator]</td>\n",
       "      <td>sqrt(49)</td>\n",
       "      <td>{'agent_type': 'openai-functions', 'tool_info'...</td>\n",
       "      <td>record_hash_2fdd7b0c309200d3fabfc12eca7fd76e</td>\n",
       "    </tr>\n",
       "    <tr>\n",
       "      <th>2</th>\n",
       "      <td>2023-08-09 22:38:19.228165</td>\n",
       "      <td>system</td>\n",
       "      <td>Observation</td>\n",
       "      <td>Answer: 7.0</td>\n",
       "      <td>{'agent_type': 'openai-functions'}</td>\n",
       "      <td>record_hash_2fdd7b0c309200d3fabfc12eca7fd76e</td>\n",
       "    </tr>\n",
       "    <tr>\n",
       "      <th>3</th>\n",
       "      <td>2023-08-09 22:38:20.036312</td>\n",
       "      <td>assistant</td>\n",
       "      <td>AgentFinish</td>\n",
       "      <td>The square root of 49 is 7.</td>\n",
       "      <td>{'agent_type': 'openai-functions'}</td>\n",
       "      <td>record_hash_2fdd7b0c309200d3fabfc12eca7fd76e</td>\n",
       "    </tr>\n",
       "  </tbody>\n",
       "</table>\n",
       "</div>"
      ],
      "text/plain": [
       "                          ts     source               label  \\\n",
       "0 2023-08-09 22:38:16.963236       user               Input   \n",
       "1 2023-08-09 22:38:18.118183  assistant  Action[Calculator]   \n",
       "2 2023-08-09 22:38:19.228165     system         Observation   \n",
       "3 2023-08-09 22:38:20.036312  assistant         AgentFinish   \n",
       "\n",
       "                         content  \\\n",
       "0  what is the square root of 49   \n",
       "1                       sqrt(49)   \n",
       "2                    Answer: 7.0   \n",
       "3    The square root of 49 is 7.   \n",
       "\n",
       "                                           metadata_  \\\n",
       "0                 {'agent_type': 'openai-functions'}   \n",
       "1  {'agent_type': 'openai-functions', 'tool_info'...   \n",
       "2                 {'agent_type': 'openai-functions'}   \n",
       "3                 {'agent_type': 'openai-functions'}   \n",
       "\n",
       "                                      record_id  \n",
       "0  record_hash_2fdd7b0c309200d3fabfc12eca7fd76e  \n",
       "1  record_hash_2fdd7b0c309200d3fabfc12eca7fd76e  \n",
       "2  record_hash_2fdd7b0c309200d3fabfc12eca7fd76e  \n",
       "3  record_hash_2fdd7b0c309200d3fabfc12eca7fd76e  "
      ]
     },
     "execution_count": 9,
     "metadata": {},
     "output_type": "execute_result"
    }
   ],
   "source": [
    "tru.db.get_messages(session.session_id)"
   ]
  }
 ],
 "metadata": {
  "kernelspec": {
   "display_name": "Python 3 (ipykernel)",
   "language": "python",
   "name": "python3"
  },
  "language_info": {
   "codemirror_mode": {
    "name": "ipython",
    "version": 3
   },
   "file_extension": ".py",
   "mimetype": "text/x-python",
   "name": "python",
   "nbconvert_exporter": "python",
   "pygments_lexer": "ipython3",
   "version": "3.8.17"
  }
 },
 "nbformat": 4,
 "nbformat_minor": 5
}
