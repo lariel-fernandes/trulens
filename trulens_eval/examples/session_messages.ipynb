{
 "cells": [
  {
   "cell_type": "code",
   "execution_count": 1,
   "id": "b7a13572-0c7b-4c63-b75a-c8addc473048",
   "metadata": {},
   "outputs": [],
   "source": [
    "import time\n",
    "from pathlib import Path\n",
    "\n",
    "from langchain import LLMMathChain\n",
    "from langchain.agents import initialize_agent, Tool\n",
    "from langchain.agents import AgentType\n",
    "from langchain.chat_models import ChatOpenAI\n",
    "\n",
    "from trulens_eval import Tru, TruChain, FeedbackMode\n",
    "from trulens_eval.instruments import Instrument\n",
    "from trulens_eval.sessions import SessionManager\n",
    "from trulens_eval.messages import OpenAiFunctionsMessagesExtractor"
   ]
  },
  {
   "cell_type": "code",
   "execution_count": 2,
   "id": "82de8e07-8edf-44b9-974e-d01847fe204f",
   "metadata": {},
   "outputs": [],
   "source": [
    "tru = Tru()"
   ]
  },
  {
   "cell_type": "code",
   "execution_count": 3,
   "id": "b3eaf840-3260-4ff5-b6d8-23b12f5c08a8",
   "metadata": {},
   "outputs": [
    {
     "name": "stdout",
     "output_type": "stream",
     "text": [
      "Force stopping dashboard ...\n",
      "Starting dashboard ...\n"
     ]
    },
    {
     "data": {
      "application/vnd.jupyter.widget-view+json": {
       "model_id": "4e963121c12d4340b5a7f3b7b4a4b10d",
       "version_major": 2,
       "version_minor": 0
      },
      "text/plain": [
       "Accordion(children=(VBox(children=(VBox(children=(Label(value='STDOUT'), Output())), VBox(children=(Label(valu…"
      ]
     },
     "metadata": {},
     "output_type": "display_data"
    },
    {
     "name": "stdout",
     "output_type": "stream",
     "text": [
      "Dashboard started at http://192.168.178.30:8501 .\n"
     ]
    },
    {
     "data": {
      "text/plain": [
       "<subprocess.Popen at 0x7f91e45ab2b0>"
      ]
     },
     "execution_count": 3,
     "metadata": {},
     "output_type": "execute_result"
    }
   ],
   "source": [
    "tru.start_dashboard(force=True)"
   ]
  },
  {
   "cell_type": "code",
   "execution_count": null,
   "id": "65d2693e-9648-4ed7-9c3d-0850d6eec824",
   "metadata": {},
   "outputs": [],
   "source": [
    "llm = ChatOpenAI(temperature=0, model=\"gpt-3.5-turbo-0613\")\n",
    "\n",
    "llm_math_chain = LLMMathChain.from_llm(llm=llm, verbose=True)\n",
    "\n",
    "tools = [\n",
    "    Tool(\n",
    "        name=\"Calculator\",\n",
    "        func=llm_math_chain.run,\n",
    "        description=\"useful for when you need to answer questions about math\"\n",
    "    ),\n",
    "    Tool(\n",
    "        name=\"Nothing\",\n",
    "        func=lambda x: x,\n",
    "        description=\"useful for for nothing\"\n",
    "    ),\n",
    "]\n",
    "\n",
    "agent = initialize_agent(tools, llm, agent=AgentType.OPENAI_FUNCTIONS, verbose=True)"
   ]
  },
  {
   "cell_type": "code",
   "execution_count": null,
   "id": "7b2411a5-4729-4b04-a317-3cca33970ea7",
   "metadata": {},
   "outputs": [],
   "source": [
    "Instrument.Default.CLASSES.add(agent.agent.__class__)\n",
    "Instrument.Default.MODULES.add(agent.agent.__module__)\n",
    "Instrument.Default.METHODS[\"plan\"] = lambda o: isinstance(o, agent.agent.__class__)"
   ]
  },
  {
   "cell_type": "code",
   "execution_count": null,
   "id": "97e680dc-3905-4f35-b7c0-42dabc063051",
   "metadata": {},
   "outputs": [],
   "source": [
    "app = TruChain(\n",
    "    app=agent,\n",
    "    app_id=\"OpenAiFunctions\",\n",
    "    feedback_mode=FeedbackMode.WITH_APP,\n",
    ")"
   ]
  },
  {
   "cell_type": "code",
   "execution_count": null,
   "id": "012c00a0-0b67-45ce-835d-a18ca48c6c31",
   "metadata": {},
   "outputs": [],
   "source": [
    "session_manager = SessionManager(\n",
    "    app=app,\n",
    "    messages_extractor=OpenAiFunctionsMessagesExtractor.from_tools(tools)\n",
    ")"
   ]
  },
  {
   "cell_type": "code",
   "execution_count": null,
   "id": "2b6680c1-85a0-4868-a694-c2b0e3663570",
   "metadata": {},
   "outputs": [],
   "source": [
    "queries = [\n",
    "    \"what is the square root of 123\",\n",
    "    \"how much is Euler's number divided by PI\"\n",
    "]\n",
    "\n",
    "with session_manager.start_session() as session_runner:\n",
    "    for query in queries:\n",
    "        session_runner(inputs={\"input\": query})"
   ]
  },
  {
   "cell_type": "code",
   "execution_count": null,
   "id": "cadabfcf-1ac7-4c68-b2c9-435729b7c894",
   "metadata": {},
   "outputs": [],
   "source": [
    "session_runner.get_messages() # messages extracted from the last session"
   ]
  },
  {
   "cell_type": "code",
   "execution_count": null,
   "id": "6768e42d-8689-45d6-903c-079ec2dd6a4d",
   "metadata": {},
   "outputs": [],
   "source": [
    "session_manager.get_messages()  # messages extracted from all sessions"
   ]
  }
 ],
 "metadata": {
  "kernelspec": {
   "display_name": "Python 3 (ipykernel)",
   "language": "python",
   "name": "python3"
  },
  "language_info": {
   "codemirror_mode": {
    "name": "ipython",
    "version": 3
   },
   "file_extension": ".py",
   "mimetype": "text/x-python",
   "name": "python",
   "nbconvert_exporter": "python",
   "pygments_lexer": "ipython3",
   "version": "3.8.17"
  }
 },
 "nbformat": 4,
 "nbformat_minor": 5
}
